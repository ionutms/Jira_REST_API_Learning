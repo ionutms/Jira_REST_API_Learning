{
 "cells": [
  {
   "cell_type": "markdown",
   "metadata": {},
   "source": [
    "# Getting Started with Atlassian and Jira API"
   ]
  },
  {
   "cell_type": "markdown",
   "metadata": {},
   "source": [
    "## 1. Creating Your Atlassian Account\n",
    "\n",
    "### Steps:\n",
    "1. Visit https://id.atlassian.com/signup\n",
    "2. Enter your email address\n",
    "3. Click \"Sign up\"\n",
    "4. Check your email for verification\n",
    "5. Complete the verification process"
   ]
  },
  {
   "cell_type": "markdown",
   "metadata": {},
   "source": [
    "## 2. Setting Up Your Jira Instance\n",
    "\n",
    "### Steps:\n",
    "1. After account creation, select \"Jira Software\"\n",
    "2. Choose the free plan (supports up to 10 users)\n",
    "3. Set up your site:\n",
    "   - Choose a unique site name (becomes your-site-name.atlassian.net)\n",
    "   - Select team size\n",
    "   - Pick project template (Scrum/Kanban/Basic)"
   ]
  },
  {
   "cell_type": "markdown",
   "metadata": {},
   "source": [
    "## 3. Generating Your API Token\n",
    "\n",
    "### Steps to Get API Token:\n",
    "1. Go to https://id.atlassian.com/manage-profile/security/api-tokens\n",
    "2. Click \"Create API token\"\n",
    "3. Give it a label (e.g., \"Jira API Testing\")\n",
    "4. Copy and save the token securely"
   ]
  },
  {
   "cell_type": "markdown",
   "metadata": {},
   "source": [
    "## 4. Important URLs to Remember\n",
    "- Atlassian Account Management: https://id.atlassian.com/manage-profile\n",
    "- Your Jira Instance: https://your-site-name.atlassian.net\n",
    "- API Documentation: https://developer.atlassian.com/cloud/jira/platform/rest/v3"
   ]
  },
  {
   "cell_type": "markdown",
   "metadata": {},
   "source": [
    "## 5. Free Plan Limitations\n",
    "\n",
    "### Free Plan Includes:\n",
    "- Maximum 10 users\n",
    "- 2GB file storage\n",
    "- Community support\n",
    "- Basic features and automations"
   ]
  },
  {
   "cell_type": "markdown",
   "metadata": {},
   "source": [
    "## 6. Next Steps for Getting Started\n",
    "\n",
    "### Recommended Actions:\n",
    "1. Create your first project\n",
    "2. Set up basic workflows\n",
    "3. Invite team members (up to 10 for free plan)\n",
    "4. Customize your board settings\n",
    "5. Start exploring the API documentation"
   ]
  },
  {
   "cell_type": "markdown",
   "metadata": {},
   "source": [
    "## 7. Security Best Practices\n",
    "\n",
    "### Important Security Notes:\n",
    "- Store API tokens securely\n",
    "- Never share or expose your API token\n",
    "- Use environment variables for credentials\n",
    "- Never commit tokens to version control\n",
    "- Consider using a secrets manager for production\n",
    "- Rotate API tokens periodically"
   ]
  },
  {
   "cell_type": "markdown",
   "metadata": {},
   "source": [
    "## 8. Additional Resources\n",
    "\n",
    "### Helpful Links:\n",
    "- Jira Beginner's Guide: https://www.atlassian.com/software/jira/guides\n",
    "- Community Forums: https://community.atlassian.com\n",
    "- API Documentation: https://developer.atlassian.com/cloud/jira/platform/rest/v3/intro/"
   ]
  },
  {
   "cell_type": "markdown",
   "metadata": {},
   "source": [
    "## 9. Learning Resources\n",
    "\n",
    "### Video Tutorials:\n",
    "- \"Complete Step-by-Step Jira Tutorial for Beginners\" (2 hours) - This comprehensive video covers:\n",
    "  - Jira fundamentals and core concepts\n",
    "  - Project setup and configuration\n",
    "  - Issue tracking basics\n",
    "  - Workflow management\n",
    "  - Agile boards and sprints\n",
    "  Link: https://www.youtube.com/watch?v=nHuhojfjeUY\n",
    "\n",
    "  Notes: followed completly once"
   ]
  },
  {
   "cell_type": "markdown",
   "metadata": {},
   "source": [
    "#### Notes\n",
    "\n",
    "- Jira is a project management and issue tracking tool\n",
    "- Jira is folowing the \"**Agile**\", which is a software developement methodology to help teamns get more stuff done by self-organizing their work\n",
    "- In Jira we have an **Agile board** which is composed of at least **3 columns**:\n",
    "  - *TO DO*\n",
    "  - *IN PROGRESS*\n",
    "  - *DONE*\n",
    "- There are two primary **ways to organize\"** a project:\n",
    "  - *Scrum*\n",
    "  - *Kanban*\n",
    "- The difference is that the *Scrum* has **Sprints**\n",
    "- A sprint is a pre-determinated amount of time where teams determinate the work to get done\n",
    "- Durring a sprint, the decided TO DO items from the previous sprint are solved one by one\n",
    "- In a Kanban workflow, new TO DO items may appear at any given time\n",
    "\n",
    "- Other agile terms are:\n",
    "  - **Story**\n",
    "    - (As a *some type of user*, I want *something* because of *some reason*)\n",
    "  - **Epic**\n",
    "    - multipe Story compose an Epic\n",
    "  - **Issues**\n",
    "    - the task it-self, which can have different types icluding stories, epics, or bugs or something custom\n",
    "  - **Projects**\n",
    "    - multiple issues can be organized in a project"
   ]
  }
 ],
 "metadata": {
  "kernelspec": {
   "display_name": "Jira_REST_API_Learning-by7hXpr5",
   "language": "python",
   "name": "python3"
  },
  "language_info": {
   "codemirror_mode": {
    "name": "ipython",
    "version": 3
   },
   "file_extension": ".py",
   "mimetype": "text/x-python",
   "name": "python",
   "nbconvert_exporter": "python",
   "pygments_lexer": "ipython3",
   "version": "3.11.9"
  }
 },
 "nbformat": 4,
 "nbformat_minor": 2
}
